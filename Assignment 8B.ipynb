{
 "cells": [
  {
   "cell_type": "markdown",
   "metadata": {},
   "source": [
    "## Assignment 8 B\n",
    "### Shubham Sharma , NU ID: 001258382"
   ]
  },
  {
   "cell_type": "markdown",
   "metadata": {},
   "source": [
    "**NOTE: This notebook file was written with Python 3 set as enviorment, Please use Python 3 running this notebook.**"
   ]
  },
  {
   "cell_type": "code",
   "execution_count": 132,
   "metadata": {},
   "outputs": [
    {
     "name": "stdout",
     "output_type": "stream",
     "text": [
      "Populating the interactive namespace from numpy and matplotlib\n"
     ]
    }
   ],
   "source": [
    "%pylab inline\n",
    "import pandas as pd\n",
    "import matplotlib.pyplot as plt\n",
    "from sklearn import tree\n",
    "from sklearn import metrics\n",
    "from sklearn.model_selection import train_test_split\n",
    "from sklearn.metrics import roc_curve, auc, classification_report, confusion_matrix, precision_recall_curve"
   ]
  },
  {
   "cell_type": "code",
   "execution_count": 133,
   "metadata": {},
   "outputs": [],
   "source": [
    "fileURL = 'https://archive.ics.uci.edu/ml/machine-learning-databases/adult/adult.data'\n",
    "census = pd.read_csv(fileURL,names= ['Age', 'Workclass', 'fnlwgt', 'Education', 'Education-num','Marital-status','Occupation',\n",
    "                                  'Relationship','Race','Sex','Capital-gain','Capital-loss','hours-per-week','Native-country',\n",
    "                                  'Income'], header=None)"
   ]
  },
  {
   "cell_type": "code",
   "execution_count": 134,
   "metadata": {
    "collapsed": true
   },
   "outputs": [],
   "source": [
    "census['Income'] = census['Income'].map({' <=50K': 0, ' >50K': 1}).astype(int)\n",
    "census['Occupation'] = census['Occupation'].map({' Transport-moving': 1, ' Machine-op-inspct': 2, ' Sales': 3,\n",
    "                                                 ' Exec-managerial': 4, ' Tech-support': 5, ' Prof-specialty': 6,\n",
    "                                                 ' Craft-repair': 7, ' Adm-clerical': 8, ' Farming-fishing': 9, ' ?': 0,\n",
    "                                                 ' Armed-Forces': 10, ' Other-service': 11, ' Handlers-cleaners': 12,\n",
    "                                                 ' Priv-house-serv': 13, ' Protective-serv': 14}).astype(int)\n",
    "census['Sex'] = census['Sex'].map({' Male': 0, ' Female': 1}).astype(int)\n",
    "census['Race'] = census['Race'].map({' Asian-Pac-Islander': 1, ' Other': 0, ' Black': 2,\n",
    "                                     ' Amer-Indian-Eskimo': 3, ' White': 4}).astype(int)"
   ]
  },
  {
   "cell_type": "code",
   "execution_count": 135,
   "metadata": {
    "collapsed": true
   },
   "outputs": [],
   "source": [
    "X = census[['Age','Education-num','Capital-gain','Capital-loss','hours-per-week']].values\n",
    "Y = census[['Income']].values"
   ]
  },
  {
   "cell_type": "code",
   "execution_count": 136,
   "metadata": {
    "collapsed": true
   },
   "outputs": [],
   "source": [
    "X_train, X_test, Y_train, Y_test = train_test_split(X, Y, test_size=.3, random_state=0)"
   ]
  },
  {
   "cell_type": "code",
   "execution_count": 137,
   "metadata": {},
   "outputs": [
    {
     "data": {
      "text/plain": [
       "(32561, 1)"
      ]
     },
     "execution_count": 137,
     "metadata": {},
     "output_type": "execute_result"
    }
   ],
   "source": [
    "Y.shape"
   ]
  },
  {
   "cell_type": "markdown",
   "metadata": {},
   "source": [
    "## Decision tree model"
   ]
  },
  {
   "cell_type": "code",
   "execution_count": 138,
   "metadata": {},
   "outputs": [
    {
     "data": {
      "text/plain": [
       "DecisionTreeClassifier(class_weight=None, criterion='gini', max_depth=10,\n",
       "            max_features=None, max_leaf_nodes=None,\n",
       "            min_impurity_decrease=0.0, min_impurity_split=None,\n",
       "            min_samples_leaf=5, min_samples_split=2,\n",
       "            min_weight_fraction_leaf=0.0, presort=False, random_state=100,\n",
       "            splitter='best')"
      ]
     },
     "execution_count": 138,
     "metadata": {},
     "output_type": "execute_result"
    }
   ],
   "source": [
    "model = tree.DecisionTreeClassifier(criterion = \"gini\", random_state = 100,\n",
    "                               max_depth=10, min_samples_leaf=5)\n",
    "model.fit(X_train,Y_train)"
   ]
  },
  {
   "cell_type": "code",
   "execution_count": 139,
   "metadata": {},
   "outputs": [],
   "source": [
    "predictions = model.predict(X_test)"
   ]
  },
  {
   "cell_type": "markdown",
   "metadata": {},
   "source": [
    "### Accuracy of model on test data"
   ]
  },
  {
   "cell_type": "code",
   "execution_count": 140,
   "metadata": {
    "scrolled": true
   },
   "outputs": [
    {
     "name": "stdout",
     "output_type": "stream",
     "text": [
      "The accuracy of the model is 0.834271675709\n"
     ]
    }
   ],
   "source": [
    "print('The accuracy of the model is',metrics.accuracy_score(predictions,Y_test))"
   ]
  },
  {
   "cell_type": "markdown",
   "metadata": {},
   "source": [
    "For computing accuracy of the model we used accuracy_score function from sklearn. In comparison to other models which we tested in previous assignments with different options for criterion and maximum depth, this model has highest accuracy.\n",
    "Accuracy of the model is computing by comparing how many instances of test data have been correctly classified. A given model should have high accuracy on unseen data(test dataset). Higher accuracy on training dataset can lead to overfitting. For given model, accuracy on training dataset is following."
   ]
  },
  {
   "cell_type": "code",
   "execution_count": 141,
   "metadata": {},
   "outputs": [
    {
     "name": "stdout",
     "output_type": "stream",
     "text": [
      "The accuracy of the model on training dataset is 0.843146718147\n"
     ]
    }
   ],
   "source": [
    "print('The accuracy of the model on training dataset is',metrics.accuracy_score(model.predict(X_train),Y_train))"
   ]
  },
  {
   "cell_type": "markdown",
   "metadata": {},
   "source": [
    "As observed our model hasn't gone for 100% accuracy on training dataset, which is good. An ideal model has high accuracy on both training and test dataset."
   ]
  },
  {
   "cell_type": "markdown",
   "metadata": {},
   "source": [
    "### Precision, Recall and Classification report"
   ]
  },
  {
   "cell_type": "code",
   "execution_count": 142,
   "metadata": {},
   "outputs": [
    {
     "name": "stdout",
     "output_type": "stream",
     "text": [
      "             precision    recall  f1-score   support\n",
      "\n",
      "          0       0.85      0.95      0.90      7407\n",
      "          1       0.76      0.46      0.57      2362\n",
      "\n",
      "avg / total       0.83      0.83      0.82      9769\n",
      "\n"
     ]
    }
   ],
   "source": [
    "print(classification_report(Y_test, predictions))"
   ]
  },
  {
   "cell_type": "markdown",
   "metadata": {},
   "source": [
    "Using classification_report function, we can generate Precision and Recall values for each class. For given model we can observe that Precision and Recall values are higher for Class 0(Low Income) and low for Class 1(High Income). By definition of Precision and Recall, we can say that our model misclassifies Class 1 instances more in comparison (due to Low recall value). However precision and recall values are higher for Class 0, which implies that classification of Class 0 instances is highly accurate. Now this could be useful if we are trying to find a model where we want to pay more focus of Class 0 instances but if opposite we need to find another model. One more reason for this anamoly could be less number of instances for Class 1."
   ]
  },
  {
   "cell_type": "markdown",
   "metadata": {},
   "source": [
    "### Confusion Matrix"
   ]
  },
  {
   "cell_type": "code",
   "execution_count": 143,
   "metadata": {},
   "outputs": [
    {
     "name": "stdout",
     "output_type": "stream",
     "text": [
      "[[16699   614]\n",
      " [ 2961  2518]]\n"
     ]
    }
   ],
   "source": [
    "print(confusion_matrix(Y_train, model.predict(X_train)))"
   ]
  },
  {
   "cell_type": "code",
   "execution_count": 144,
   "metadata": {},
   "outputs": [
    {
     "name": "stdout",
     "output_type": "stream",
     "text": [
      "[[7067  340]\n",
      " [1279 1083]]\n"
     ]
    }
   ],
   "source": [
    "print(confusion_matrix(Y_test, model.predict(X_test)))"
   ]
  },
  {
   "cell_type": "markdown",
   "metadata": {},
   "source": [
    "We have generated confusion matrix for both training data and test dataset. By looking at above metrix we can say that our model has higher correct classification rate for Class 0 instances than Class 1 instances. So depending on the requirement this model may be good or bad choice."
   ]
  },
  {
   "cell_type": "markdown",
   "metadata": {},
   "source": [
    "### ROC curve and AUROC"
   ]
  },
  {
   "cell_type": "code",
   "execution_count": 145,
   "metadata": {
    "collapsed": true
   },
   "outputs": [],
   "source": [
    "false_positive_rate, true_positive_rate, thresholds = roc_curve(Y_test, predictions)\n",
    "roc_auc = auc(false_positive_rate, true_positive_rate)"
   ]
  },
  {
   "cell_type": "code",
   "execution_count": 146,
   "metadata": {},
   "outputs": [
    {
     "data": {
      "image/png": "[encoded data removed]",
      "text/plain": [
       "<matplotlib.figure.Figure at 0x25310140c50>"
      ]
     },
     "metadata": {},
     "output_type": "display_data"
    }
   ],
   "source": [
    "plt.title('Receiver Operating Characteristic')\n",
    "plt.plot(false_positive_rate, true_positive_rate, 'b',\n",
    "label='AUC = %0.2f'% roc_auc)\n",
    "plt.legend(loc='lower right')\n",
    "plt.ylabel('True Positive Rate')\n",
    "plt.xlabel('False Positive Rate')\n",
    "plt.show()"
   ]
  },
  {
   "cell_type": "markdown",
   "metadata": {},
   "source": [
    "As seen above Area under ROC curve is .71, which is not very good and reason for this is not good classification rate for Class 1. Interesting observation here ROC curve or AUROC has been able to capture this shortcoming of our model in most visiually understandble in comparison to other metrics such as Accuracy score which were biased because of high number of Class 0 instancs."
   ]
  },
  {
   "cell_type": "markdown",
   "metadata": {},
   "source": [
    "### Precision Recall curve"
   ]
  },
  {
   "cell_type": "code",
   "execution_count": 152,
   "metadata": {},
   "outputs": [
    {
     "data": {
      "text/plain": [
       "<matplotlib.text.Text at 0x25310268cf8>"
      ]
     },
     "execution_count": 152,
     "metadata": {},
     "output_type": "execute_result"
    },
    {
     "data": {
      "image/png": "[encoded data removed]",
      "text/plain": [
       "<matplotlib.figure.Figure at 0x253103e6f98>"
      ]
     },
     "metadata": {},
     "output_type": "display_data"
    }
   ],
   "source": [
    "precision, recall, _ = precision_recall_curve(Y_test, predictions)\n",
    "\n",
    "plt.step(recall, precision, color='b', alpha=0.2,\n",
    "         where='post')\n",
    "plt.fill_between(recall, precision, step='post', alpha=0.2,\n",
    "                 color='b')\n",
    "\n",
    "plt.xlabel('Recall')\n",
    "plt.ylabel('Precision')\n",
    "plt.title('2-class Precision-Recall curve for')"
   ]
  },
  {
   "cell_type": "markdown",
   "metadata": {},
   "source": [
    "Above we have plotted Precision-recall curve. It shows that data is balanced but our model is not perfect, for high precision it's low recall, but low precision has high recall."
   ]
  }
 ],
 "metadata": {
  "kernelspec": {
   "display_name": "Python 3",
   "language": "python",
   "name": "python3"
  },
  "language_info": {
   "codemirror_mode": {
    "name": "ipython",
    "version": 3
   },
   "file_extension": ".py",
   "mimetype": "text/x-python",
   "name": "python",
   "nbconvert_exporter": "python",
   "pygments_lexer": "ipython3",
   "version": "3.6.2"
  }
 },
 "nbformat": 4,
 "nbformat_minor": 2
}
